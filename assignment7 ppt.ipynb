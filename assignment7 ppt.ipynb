{
 "cells": [
  {
   "cell_type": "code",
   "execution_count": 1,
   "id": "e1161532-aae7-4bcb-8156-dabf136d76d3",
   "metadata": {},
   "outputs": [
    {
     "name": "stdout",
     "output_type": "stream",
     "text": [
      "True\n"
     ]
    }
   ],
   "source": [
    "#question 1 solution\n",
    "class Solution:\n",
    "    def isIsomorphic(self, s: str, t: str) -> bool:\n",
    "        if (len(set(t))==len(set(s)) and len({(a,b) for a,b in zip(s,t)})==len(set(s))):\n",
    "            return True\n",
    "        return False\n",
    "k=Solution()        \n",
    "s = \"egg\"\n",
    "t = \"add\"\n",
    "output=k.isIsomorphic(s,t)\n",
    "print(output)"
   ]
  },
  {
   "cell_type": "code",
   "execution_count": 2,
   "id": "ab0b6880-2dea-47c1-86c9-bbad4b700b08",
   "metadata": {},
   "outputs": [
    {
     "name": "stdout",
     "output_type": "stream",
     "text": [
      "True\n"
     ]
    }
   ],
   "source": [
    "# question 2 solution\n",
    "class Solution(object):\n",
    "    def isStrobogrammatic(self, num):\n",
    "      \n",
    "        maps = {(\"0\", \"0\"), (\"1\", \"1\"), (\"6\", \"9\"), (\"8\", \"8\"), (\"9\", \"6\")}\n",
    "        i,j = 0, len(num) - 1\n",
    "        while i <= j:\n",
    "            if (num[i], num[j]) not in maps:\n",
    "                return False\n",
    "            i += 1\n",
    "            j -= 1\n",
    "        return True\n",
    "k=Solution()        \n",
    "num = \"69\"\n",
    "output=k.isStrobogrammatic(num)\n",
    "print(output)"
   ]
  },
  {
   "cell_type": "code",
   "execution_count": 3,
   "id": "72d4cf68-0a9c-4ab5-8541-552a48c86e93",
   "metadata": {},
   "outputs": [
    {
     "name": "stdout",
     "output_type": "stream",
     "text": [
      "134\n"
     ]
    }
   ],
   "source": [
    "# question 3 solution\n",
    "class Solution:\n",
    "    def addStrings(self, num1: str, num2: str) -> str:\n",
    "        \n",
    "        def str2int(num):\n",
    "            numDict = {'0' : 0, '1' : 1, '2' : 2, '3' : 3, '4' : 4, '5' : 5,\n",
    "                  '6' : 6, '7' : 7, '8' : 8, '9' : 9}\n",
    "            output = 0\n",
    "            for d in num:\n",
    "                output = output * 10 + numDict[d]\n",
    "            return output\n",
    "        \n",
    "        return str(str2int(num1) + str2int(num2)) \n",
    "k=Solution()        \n",
    "num1 = \"11\"\n",
    "num2 = \"123\"\n",
    "output=k.addStrings(num1,num2)\n",
    "print(output)"
   ]
  },
  {
   "cell_type": "code",
   "execution_count": 4,
   "id": "10c0696b-7859-46d9-acee-888f42508c2e",
   "metadata": {},
   "outputs": [
    {
     "name": "stdout",
     "output_type": "stream",
     "text": [
      "s'teL ekat edoCteeL tsetnoc\n"
     ]
    }
   ],
   "source": [
    "# question 4 solution\n",
    "class Solution:\n",
    "    def reverseWords(self, s: str) -> str:\n",
    "        s_list = s.split(\" \")\n",
    "        return \" \".join([item[::-1] for item in s_list])\n",
    "r=Solution()        \n",
    "s = \"Let's take LeetCode contest\"\n",
    "output=r.reverseWords(s)\n",
    "print(output)"
   ]
  },
  {
   "cell_type": "code",
   "execution_count": 5,
   "id": "8d1292fb-22be-40b3-8591-7f3ab47c67a3",
   "metadata": {},
   "outputs": [
    {
     "name": "stdout",
     "output_type": "stream",
     "text": [
      "True\n"
     ]
    }
   ],
   "source": [
    "# question 6 solution\n",
    "class Solution:\n",
    "    def rotateString(self, s: str, goal: str) -> bool:\n",
    "        \n",
    "        for i in range(len(s)):\n",
    "            s = s[1:]+s[0] \n",
    "            if(s==goal):\n",
    "                return True\n",
    "        return False\n",
    "r=Solution()        \n",
    "s = \"abcde\"\n",
    "goal = \"cdeab\"\n",
    "output=r.rotateString(s,goal)\n",
    "print(output)"
   ]
  },
  {
   "cell_type": "code",
   "execution_count": null,
   "id": "03c2e32d-2c1b-4e36-8819-20fd8ba0608c",
   "metadata": {},
   "outputs": [],
   "source": []
  }
 ],
 "metadata": {
  "kernelspec": {
   "display_name": "Python 3 (ipykernel)",
   "language": "python",
   "name": "python3"
  },
  "language_info": {
   "codemirror_mode": {
    "name": "ipython",
    "version": 3
   },
   "file_extension": ".py",
   "mimetype": "text/x-python",
   "name": "python",
   "nbconvert_exporter": "python",
   "pygments_lexer": "ipython3",
   "version": "3.10.6"
  }
 },
 "nbformat": 4,
 "nbformat_minor": 5
}
